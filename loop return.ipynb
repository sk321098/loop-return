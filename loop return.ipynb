{
 "cells": [
  {
   "cell_type": "code",
   "execution_count": 1,
   "id": "8d1bb732",
   "metadata": {},
   "outputs": [],
   "source": [
    "#Work for assignment is below, under hwlist\n",
    "import math"
   ]
  },
  {
   "cell_type": "code",
   "execution_count": 2,
   "id": "50d71d4d",
   "metadata": {},
   "outputs": [],
   "source": [
    "#list datatype\n",
    "\n",
    "test_scores = [22, 99, 102, 33, 57, 75, 100, 81, 62, 29]"
   ]
  },
  {
   "cell_type": "code",
   "execution_count": null,
   "id": "1914d20d",
   "metadata": {},
   "outputs": [],
   "source": [
    "def get_sum(num_list):\n",
    "    #for loop\n",
    "    sum = 0\n",
    "    #add each test score to sum\n",
    "    for x in num_list:\n",
    "        sum = sum + x\n",
    "    return sum\n",
    "\n",
    "    sum = get_sum(num_list)\n",
    "print(sum)\n",
    "#get n\n",
    "n = len(test_scores)\n",
    "#divide sum by n to get mean \n",
    "mean = sum/n\n",
    "print(mean)"
   ]
  },
  {
   "cell_type": "code",
   "execution_count": null,
   "id": "12e4f6d5",
   "metadata": {},
   "outputs": [],
   "source": [
    "#initialise an empty list\n",
    "delta_mean_list = []\n",
    "for i in test_scores:\n",
    "    d_mean = i - mean \n",
    "    delta_mean_list.append(d_mean)\n",
    "    \n",
    "print(delta_mean_list)"
   ]
  },
  {
   "cell_type": "code",
   "execution_count": null,
   "id": "ec4f7a1d",
   "metadata": {},
   "outputs": [],
   "source": [
    "delta_mean_squared_list = []\n",
    "for d_mean in delta_mean_list:\n",
    "    d_mean_sqrd = d_mean**2 #assign d_mean squared to variable\n",
    "    delta_mean_squared_list.append(d_mean_sqrd)\n",
    "    \n",
    "print(delta_mean_squared_list)"
   ]
  },
  {
   "cell_type": "code",
   "execution_count": null,
   "id": "183a880b",
   "metadata": {},
   "outputs": [],
   "source": [
    "delta_mean_squared_sum = get_sum(delta_mean_squared_list)\n",
    "print(delta_mean_squared_sum)"
   ]
  },
  {
   "cell_type": "code",
   "execution_count": null,
   "id": "74e3eeaa",
   "metadata": {},
   "outputs": [],
   "source": [
    "import math\n",
    "variance = delta_mean_squared_sum/n\n",
    "standard_deviation = math.sqrt(variance)\n",
    "print(variance, standard_deviation)"
   ]
  },
  {
   "cell_type": "code",
   "execution_count": 3,
   "id": "b52d6322",
   "metadata": {},
   "outputs": [
    {
     "name": "stdout",
     "output_type": "stream",
     "text": [
      "(833.8, 28.875595231960155)\n",
      "(195.9183673469388, 13.997084244475303)\n",
      "(14.6, 3.82099463490856)\n",
      "(12.56, 3.54400902933387)\n",
      "(102.46913580246913, 10.122703976826998)\n"
     ]
    }
   ],
   "source": [
    "def get_sum(num_list):\n",
    "    #for loop\n",
    "    sum = 0\n",
    "    #add each test score to sum\n",
    "    for x in num_list:\n",
    "        sum = sum + x\n",
    "    return sum\n",
    "\n",
    "import math\n",
    "def do_homework(num_list):  \n",
    "    #mean \n",
    "    sum = get_sum(num_list)\n",
    "    n = len(num_list)\n",
    "    mean = sum/n\n",
    "    #initialise an empty list for delta mean\n",
    "    delta_mean_list = []\n",
    "    for i in num_list:\n",
    "        d_mean = i - mean \n",
    "        delta_mean_list.append(d_mean)\n",
    "    delta_mean_squared_list = []\n",
    "    for d_mean in delta_mean_list:\n",
    "        d_mean_sqrd = d_mean**2 #assign d_mean squared to variable\n",
    "        delta_mean_squared_list.append(d_mean_sqrd)\n",
    "        delta_mean_squared_sum = get_sum(delta_mean_squared_list)\n",
    "        variance = delta_mean_squared_sum/n\n",
    "        standard_deviation = math.sqrt(variance)\n",
    "    return variance, standard_deviation\n",
    "   \n",
    "\n",
    "\n",
    "print(do_homework(test_scores))\n",
    "print(do_homework([35, 50, 60, 60, 75, 65, 80]))\n",
    "print(do_homework([51, 48, 47, 46, 45, 43, 41, 40, 40, 39]))\n",
    "print(do_homework([11, 7, 14, 2, 8, 13, 3, 6, 10, 3, 8, 4, 8, 4, 7]))\n",
    "print(do_homework([135, 115, 120, 110, 110, 100, 105, 110, 125]))"
   ]
  },
  {
   "cell_type": "code",
   "execution_count": null,
   "id": "0e5888f6",
   "metadata": {},
   "outputs": [],
   "source": [
    "#test_scores = test_scores.sort()\n",
    "import numpy as np\n",
    "test_scores = list(np.sort(test_scores))\n",
    "median_index = int(len(test_scores)/2)\n",
    "if median_index%2 == 0 :\n",
    "    median= (num_list[median_index] + num_list[median_index-1])/2\n",
    "else:\n",
    "    median = num_list[median_index]\n",
    "return mean, median, standard_deviation\n",
    "print(median)"
   ]
  },
  {
   "cell_type": "code",
   "execution_count": 4,
   "id": "329ee30c",
   "metadata": {},
   "outputs": [],
   "source": [
    "hwlist = [8, 6, 4, 2]"
   ]
  },
  {
   "cell_type": "code",
   "execution_count": 5,
   "id": "2ec52de4",
   "metadata": {},
   "outputs": [
    {
     "data": {
      "text/plain": [
       "20"
      ]
     },
     "execution_count": 5,
     "metadata": {},
     "output_type": "execute_result"
    }
   ],
   "source": [
    "hwlist = [8, 6, 4, 2]\n",
    "def get_sum(num_list):\n",
    "    sum = 0\n",
    "    for x in num_list:\n",
    "        sum = sum + x\n",
    "    return sum\n",
    "get_sum(hwlist)    "
   ]
  },
  {
   "cell_type": "code",
   "execution_count": 6,
   "id": "7ffc674f",
   "metadata": {},
   "outputs": [
    {
     "data": {
      "text/plain": [
       "0.2"
      ]
     },
     "execution_count": 6,
     "metadata": {},
     "output_type": "execute_result"
    }
   ],
   "source": [
    "hwlist = [8, 6, 4, 2]\n",
    "sample_size = 100\n",
    "def get_decimal(num_list):\n",
    "    decimal_list = []\n",
    "    for y in num_list:\n",
    "        decimal = get_sum(num_list)/sample_size\n",
    "        decimal_list.append(decimal)\n",
    "    return decimal \n",
    "get_decimal(hwlist)"
   ]
  },
  {
   "cell_type": "code",
   "execution_count": 7,
   "id": "469a52ff",
   "metadata": {},
   "outputs": [
    {
     "data": {
      "text/plain": [
       "180.0"
      ]
     },
     "execution_count": 7,
     "metadata": {},
     "output_type": "execute_result"
    }
   ],
   "source": [
    "hwlist = [8, 6, 4, 2]\n",
    "pop = 900\n",
    "def apply_to_pop(num_list):\n",
    "    final_pop_list = []\n",
    "    for final_val in num_list:\n",
    "        val = (get_decimal(num_list)*pop)\n",
    "        final_pop_list.append(val)\n",
    "    return val\n",
    "apply_to_pop(hwlist)"
   ]
  },
  {
   "cell_type": "code",
   "execution_count": 8,
   "id": "f1001adb",
   "metadata": {},
   "outputs": [
    {
     "name": "stdout",
     "output_type": "stream",
     "text": [
      "(20, 0.2, 180.0)\n",
      "(24, 0.24, 216.0)\n",
      "(66, 0.66, 594.0)\n"
     ]
    }
   ],
   "source": [
    "hwlist = [8, 6, 4, 2]\n",
    "pop = 900\n",
    "sample_size = 100\n",
    "def apply_percent_to_pop(num_list):\n",
    "    #def get_sum(num_list):\n",
    "        sum = 0\n",
    "        for x in num_list:\n",
    "            sum = sum + x\n",
    "    #def get_decimal(num_list):\n",
    "        decimal_list = []\n",
    "        for y in num_list:\n",
    "            decimal = sum/sample_size\n",
    "            decimal_list.append(decimal)\n",
    "    #def apply_to_pop(num_list):\n",
    "        final_pop_list = []\n",
    "        for final_val in num_list:\n",
    "            val = ((decimal)*pop)\n",
    "            final_pop_list.append(val)\n",
    "        return sum, decimal, val\n",
    "\n",
    "print(apply_percent_to_pop(hwlist))\n",
    "print(apply_percent_to_pop([7, 8, 5, 4,]))\n",
    "print(apply_percent_to_pop([1, 0, 9, 8, 4, 3, 2, 14, 13, 12]))"
   ]
  }
 ],
 "metadata": {
  "kernelspec": {
   "display_name": "Python 3 (ipykernel)",
   "language": "python",
   "name": "python3"
  },
  "language_info": {
   "codemirror_mode": {
    "name": "ipython",
    "version": 3
   },
   "file_extension": ".py",
   "mimetype": "text/x-python",
   "name": "python",
   "nbconvert_exporter": "python",
   "pygments_lexer": "ipython3",
   "version": "3.9.12"
  }
 },
 "nbformat": 4,
 "nbformat_minor": 5
}
